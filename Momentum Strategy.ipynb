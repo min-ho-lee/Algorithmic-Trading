{
 "cells": [
  {
   "cell_type": "markdown",
   "metadata": {},
   "source": [
    "In this post, I will work on replicating the momentum decile portfolios. Momentum refers to tendency that rising stocks tend to rise, while falling stocks are likely to fall. To be specific, It involves going long stocks, futures or market ETFs showing upward-trending prices and short the respective assets with downward-trending prices. I will use the data_ml.RData, which is uploaded in my repository, and monthly returns as a feature instead of stock prices. "
   ]
  },
  {
   "cell_type": "code",
   "execution_count": 1,
   "metadata": {},
   "outputs": [],
   "source": [
    "import pyreadr \n",
    "import pandas as pd\n",
    "import numpy as np\n",
    "import matplotlib.pyplot as plt\n",
    "%matplotlib inline"
   ]
  },
  {
   "cell_type": "markdown",
   "metadata": {},
   "source": [
    "The first thing to do is checking the data"
   ]
  },
  {
   "cell_type": "code",
   "execution_count": 2,
   "metadata": {},
   "outputs": [
    {
     "data": {
      "text/html": [
       "<div>\n",
       "<style scoped>\n",
       "    .dataframe tbody tr th:only-of-type {\n",
       "        vertical-align: middle;\n",
       "    }\n",
       "\n",
       "    .dataframe tbody tr th {\n",
       "        vertical-align: top;\n",
       "    }\n",
       "\n",
       "    .dataframe thead th {\n",
       "        text-align: right;\n",
       "    }\n",
       "</style>\n",
       "<table border=\"1\" class=\"dataframe\">\n",
       "  <thead>\n",
       "    <tr style=\"text-align: right;\">\n",
       "      <th></th>\n",
       "      <th>stock_id</th>\n",
       "      <th>date</th>\n",
       "      <th>Advt_12M_Usd</th>\n",
       "      <th>Advt_3M_Usd</th>\n",
       "      <th>Advt_6M_Usd</th>\n",
       "      <th>Asset_Turnover</th>\n",
       "      <th>Bb_Yld</th>\n",
       "      <th>Bv</th>\n",
       "      <th>Capex_Ps_Cf</th>\n",
       "      <th>Capex_Sales</th>\n",
       "      <th>...</th>\n",
       "      <th>Total_Capital</th>\n",
       "      <th>Total_Debt</th>\n",
       "      <th>Total_Debt_Capital</th>\n",
       "      <th>Total_Liabilities_Total_Assets</th>\n",
       "      <th>Vol1Y_Usd</th>\n",
       "      <th>Vol3Y_Usd</th>\n",
       "      <th>R1M_Usd</th>\n",
       "      <th>R3M_Usd</th>\n",
       "      <th>R6M_Usd</th>\n",
       "      <th>R12M_Usd</th>\n",
       "    </tr>\n",
       "  </thead>\n",
       "  <tbody>\n",
       "    <tr>\n",
       "      <th>227865</th>\n",
       "      <td>1</td>\n",
       "      <td>1998-11-30</td>\n",
       "      <td>0.72</td>\n",
       "      <td>0.61</td>\n",
       "      <td>0.67</td>\n",
       "      <td>0.19</td>\n",
       "      <td>0.22</td>\n",
       "      <td>0.81</td>\n",
       "      <td>0.5</td>\n",
       "      <td>0.97</td>\n",
       "      <td>...</td>\n",
       "      <td>0.85</td>\n",
       "      <td>0.87</td>\n",
       "      <td>0.79</td>\n",
       "      <td>0.58</td>\n",
       "      <td>0.41</td>\n",
       "      <td>0.41</td>\n",
       "      <td>-0.340</td>\n",
       "      <td>-0.636</td>\n",
       "      <td>-0.179</td>\n",
       "      <td>-0.373</td>\n",
       "    </tr>\n",
       "    <tr>\n",
       "      <th>227866</th>\n",
       "      <td>1</td>\n",
       "      <td>1998-12-31</td>\n",
       "      <td>0.71</td>\n",
       "      <td>0.59</td>\n",
       "      <td>0.65</td>\n",
       "      <td>0.19</td>\n",
       "      <td>1.00</td>\n",
       "      <td>0.81</td>\n",
       "      <td>0.5</td>\n",
       "      <td>0.97</td>\n",
       "      <td>...</td>\n",
       "      <td>0.85</td>\n",
       "      <td>0.87</td>\n",
       "      <td>0.80</td>\n",
       "      <td>0.58</td>\n",
       "      <td>0.49</td>\n",
       "      <td>0.49</td>\n",
       "      <td>-0.057</td>\n",
       "      <td>-0.114</td>\n",
       "      <td>0.386</td>\n",
       "      <td>0.021</td>\n",
       "    </tr>\n",
       "    <tr>\n",
       "      <th>227867</th>\n",
       "      <td>1</td>\n",
       "      <td>1999-01-31</td>\n",
       "      <td>0.70</td>\n",
       "      <td>0.58</td>\n",
       "      <td>0.60</td>\n",
       "      <td>0.19</td>\n",
       "      <td>0.16</td>\n",
       "      <td>0.81</td>\n",
       "      <td>0.5</td>\n",
       "      <td>0.97</td>\n",
       "      <td>...</td>\n",
       "      <td>0.85</td>\n",
       "      <td>0.87</td>\n",
       "      <td>0.80</td>\n",
       "      <td>0.58</td>\n",
       "      <td>0.52</td>\n",
       "      <td>0.51</td>\n",
       "      <td>-0.352</td>\n",
       "      <td>0.417</td>\n",
       "      <td>0.409</td>\n",
       "      <td>0.038</td>\n",
       "    </tr>\n",
       "    <tr>\n",
       "      <th>227868</th>\n",
       "      <td>1</td>\n",
       "      <td>1999-02-28</td>\n",
       "      <td>0.66</td>\n",
       "      <td>0.53</td>\n",
       "      <td>0.57</td>\n",
       "      <td>0.19</td>\n",
       "      <td>0.01</td>\n",
       "      <td>0.81</td>\n",
       "      <td>0.5</td>\n",
       "      <td>0.97</td>\n",
       "      <td>...</td>\n",
       "      <td>0.85</td>\n",
       "      <td>0.87</td>\n",
       "      <td>0.80</td>\n",
       "      <td>0.58</td>\n",
       "      <td>0.56</td>\n",
       "      <td>0.54</td>\n",
       "      <td>0.494</td>\n",
       "      <td>1.096</td>\n",
       "      <td>1.193</td>\n",
       "      <td>0.602</td>\n",
       "    </tr>\n",
       "    <tr>\n",
       "      <th>191370</th>\n",
       "      <td>1</td>\n",
       "      <td>1999-03-31</td>\n",
       "      <td>0.63</td>\n",
       "      <td>0.49</td>\n",
       "      <td>0.54</td>\n",
       "      <td>0.19</td>\n",
       "      <td>0.57</td>\n",
       "      <td>0.68</td>\n",
       "      <td>0.5</td>\n",
       "      <td>0.95</td>\n",
       "      <td>...</td>\n",
       "      <td>0.81</td>\n",
       "      <td>0.87</td>\n",
       "      <td>0.92</td>\n",
       "      <td>0.78</td>\n",
       "      <td>0.65</td>\n",
       "      <td>0.65</td>\n",
       "      <td>0.461</td>\n",
       "      <td>0.375</td>\n",
       "      <td>0.328</td>\n",
       "      <td>0.355</td>\n",
       "    </tr>\n",
       "  </tbody>\n",
       "</table>\n",
       "<p>5 rows × 99 columns</p>\n",
       "</div>"
      ],
      "text/plain": [
       "        stock_id        date  Advt_12M_Usd  Advt_3M_Usd  Advt_6M_Usd  \\\n",
       "227865         1  1998-11-30          0.72         0.61         0.67   \n",
       "227866         1  1998-12-31          0.71         0.59         0.65   \n",
       "227867         1  1999-01-31          0.70         0.58         0.60   \n",
       "227868         1  1999-02-28          0.66         0.53         0.57   \n",
       "191370         1  1999-03-31          0.63         0.49         0.54   \n",
       "\n",
       "        Asset_Turnover  Bb_Yld    Bv  Capex_Ps_Cf  Capex_Sales  ...  \\\n",
       "227865            0.19    0.22  0.81          0.5         0.97  ...   \n",
       "227866            0.19    1.00  0.81          0.5         0.97  ...   \n",
       "227867            0.19    0.16  0.81          0.5         0.97  ...   \n",
       "227868            0.19    0.01  0.81          0.5         0.97  ...   \n",
       "191370            0.19    0.57  0.68          0.5         0.95  ...   \n",
       "\n",
       "        Total_Capital  Total_Debt  Total_Debt_Capital  \\\n",
       "227865           0.85        0.87                0.79   \n",
       "227866           0.85        0.87                0.80   \n",
       "227867           0.85        0.87                0.80   \n",
       "227868           0.85        0.87                0.80   \n",
       "191370           0.81        0.87                0.92   \n",
       "\n",
       "        Total_Liabilities_Total_Assets  Vol1Y_Usd  Vol3Y_Usd  R1M_Usd  \\\n",
       "227865                            0.58       0.41       0.41   -0.340   \n",
       "227866                            0.58       0.49       0.49   -0.057   \n",
       "227867                            0.58       0.52       0.51   -0.352   \n",
       "227868                            0.58       0.56       0.54    0.494   \n",
       "191370                            0.78       0.65       0.65    0.461   \n",
       "\n",
       "        R3M_Usd  R6M_Usd  R12M_Usd  \n",
       "227865   -0.636   -0.179    -0.373  \n",
       "227866   -0.114    0.386     0.021  \n",
       "227867    0.417    0.409     0.038  \n",
       "227868    1.096    1.193     0.602  \n",
       "191370    0.375    0.328     0.355  \n",
       "\n",
       "[5 rows x 99 columns]"
      ]
     },
     "execution_count": 2,
     "metadata": {},
     "output_type": "execute_result"
    }
   ],
   "source": [
    "data_ml = pyreadr.read_r(# insert path of data_ml.RData)\n",
    "data_ml.sort_values(by=['stock_id','date'], inplace=True)\n",
    "data_ml.head()"
   ]
  },
  {
   "cell_type": "code",
   "execution_count": 3,
   "metadata": {},
   "outputs": [
    {
     "data": {
      "text/plain": [
       "Index(['stock_id', 'date', 'Advt_12M_Usd', 'Advt_3M_Usd', 'Advt_6M_Usd',\n",
       "       'Asset_Turnover', 'Bb_Yld', 'Bv', 'Capex_Ps_Cf', 'Capex_Sales',\n",
       "       'Cash_Div_Cf', 'Cash_Per_Share', 'Cf_Sales', 'Debtequity', 'Div_Yld',\n",
       "       'Dps', 'Ebit_Bv', 'Ebit_Noa', 'Ebit_Oa', 'Ebit_Ta', 'Ebitda_Margin',\n",
       "       'Eps', 'Eps_Basic', 'Eps_Basic_Gr', 'Eps_Contin_Oper', 'Eps_Dil', 'Ev',\n",
       "       'Ev_Ebitda', 'Fa_Ci', 'Fcf', 'Fcf_Bv', 'Fcf_Ce', 'Fcf_Margin',\n",
       "       'Fcf_Noa', 'Fcf_Oa', 'Fcf_Ta', 'Fcf_Tbv', 'Fcf_Toa', 'Fcf_Yld',\n",
       "       'Free_Ps_Cf', 'Int_Rev', 'Interest_Expense', 'Mkt_Cap_12M_Usd',\n",
       "       'Mkt_Cap_3M_Usd', 'Mkt_Cap_6M_Usd', 'Mom_11M_Usd', 'Mom_5M_Usd',\n",
       "       'Mom_Sharp_11M_Usd', 'Mom_Sharp_5M_Usd', 'Nd_Ebitda', 'Net_Debt',\n",
       "       'Net_Debt_Cf', 'Net_Margin', 'Netdebtyield', 'Ni', 'Ni_Avail_Margin',\n",
       "       'Ni_Oa', 'Ni_Toa', 'Noa', 'Oa', 'Ocf', 'Ocf_Bv', 'Ocf_Ce', 'Ocf_Margin',\n",
       "       'Ocf_Noa', 'Ocf_Oa', 'Ocf_Ta', 'Ocf_Tbv', 'Ocf_Toa', 'Op_Margin',\n",
       "       'Op_Prt_Margin', 'Oper_Ps_Net_Cf', 'Pb', 'Pe', 'Ptx_Mgn',\n",
       "       'Recurring_Earning_Total_Assets', 'Return_On_Capital', 'Rev', 'Roa',\n",
       "       'Roc', 'Roce', 'Roe', 'Sales_Ps', 'Share_Turn_12M', 'Share_Turn_3M',\n",
       "       'Share_Turn_6M', 'Ta', 'Tev_Less_Mktcap', 'Tot_Debt_Rev',\n",
       "       'Total_Capital', 'Total_Debt', 'Total_Debt_Capital',\n",
       "       'Total_Liabilities_Total_Assets', 'Vol1Y_Usd', 'Vol3Y_Usd', 'R1M_Usd',\n",
       "       'R3M_Usd', 'R6M_Usd', 'R12M_Usd'],\n",
       "      dtype='object')"
      ]
     },
     "execution_count": 3,
     "metadata": {},
     "output_type": "execute_result"
    }
   ],
   "source": [
    "data_ml.columns"
   ]
  },
  {
   "cell_type": "code",
   "execution_count": 5,
   "metadata": {},
   "outputs": [
    {
     "data": {
      "image/png": "[encoded data removed]",
      "text/plain": [
       "<Figure size 432x288 with 1 Axes>"
      ]
     },
     "metadata": {
      "needs_background": "light"
     },
     "output_type": "display_data"
    }
   ],
   "source": [
    "plt.plot(data_ml.date.unique(), data_ml.groupby('date').stock_id.count())\n",
    "plt.xlabel(\"date\")\n",
    "plt.ylabel(\"nb_assets\")\n",
    "plt.show()"
   ]
  },
  {
   "cell_type": "markdown",
   "metadata": {},
   "source": [
    "For simplicity, in the computation, investment universe will be shrinked to keep only the stocks for which I have the maximum number of points."
   ]
  },
  {
   "cell_type": "code",
   "execution_count": 6,
   "metadata": {},
   "outputs": [],
   "source": [
    "stock_ids = data_ml.stock_id.unique()\n",
    "stock_days = data_ml.stock_id.value_counts().sort_index() \n",
    "stock_ids_short = stock_ids[stock_days.values == max(stock_days.values)] \n",
    "data_df = data_ml[data_ml['stock_id'].isin(stock_ids_short)][['date','stock_id','R1M_Usd']]"
   ]
  },
  {
   "cell_type": "code",
   "execution_count": 7,
   "metadata": {},
   "outputs": [
    {
     "data": {
      "text/html": [
       "<div>\n",
       "<style scoped>\n",
       "    .dataframe tbody tr th:only-of-type {\n",
       "        vertical-align: middle;\n",
       "    }\n",
       "\n",
       "    .dataframe tbody tr th {\n",
       "        vertical-align: top;\n",
       "    }\n",
       "\n",
       "    .dataframe thead th {\n",
       "        text-align: right;\n",
       "    }\n",
       "</style>\n",
       "<table border=\"1\" class=\"dataframe\">\n",
       "  <thead>\n",
       "    <tr style=\"text-align: right;\">\n",
       "      <th></th>\n",
       "      <th>date</th>\n",
       "      <th>stock_id</th>\n",
       "      <th>R1M_Usd</th>\n",
       "    </tr>\n",
       "  </thead>\n",
       "  <tbody>\n",
       "    <tr>\n",
       "      <th>77549</th>\n",
       "      <td>1998-11-30</td>\n",
       "      <td>3</td>\n",
       "      <td>0.016</td>\n",
       "    </tr>\n",
       "    <tr>\n",
       "      <th>74656</th>\n",
       "      <td>1998-12-31</td>\n",
       "      <td>3</td>\n",
       "      <td>-0.028</td>\n",
       "    </tr>\n",
       "    <tr>\n",
       "      <th>74657</th>\n",
       "      <td>1999-01-31</td>\n",
       "      <td>3</td>\n",
       "      <td>0.004</td>\n",
       "    </tr>\n",
       "    <tr>\n",
       "      <th>74658</th>\n",
       "      <td>1999-02-28</td>\n",
       "      <td>3</td>\n",
       "      <td>-0.060</td>\n",
       "    </tr>\n",
       "    <tr>\n",
       "      <th>71769</th>\n",
       "      <td>1999-03-31</td>\n",
       "      <td>3</td>\n",
       "      <td>0.071</td>\n",
       "    </tr>\n",
       "  </tbody>\n",
       "</table>\n",
       "</div>"
      ],
      "text/plain": [
       "             date  stock_id  R1M_Usd\n",
       "77549  1998-11-30         3    0.016\n",
       "74656  1998-12-31         3   -0.028\n",
       "74657  1999-01-31         3    0.004\n",
       "74658  1999-02-28         3   -0.060\n",
       "71769  1999-03-31         3    0.071"
      ]
     },
     "execution_count": 7,
     "metadata": {},
     "output_type": "execute_result"
    }
   ],
   "source": [
    "data_df.head()"
   ]
  },
  {
   "cell_type": "markdown",
   "metadata": {},
   "source": [
    "As I mentioned before, I apply momentum strategy on 1 month return. Momentum Investing involves going long financial assets showing upward-trending prices and short the respective assets with downward-trending prices. I will replicate the strategy of buying stocks with best return in past 15 months and selling stocks with worst return in the past 15 months. "
   ]
  },
  {
   "cell_type": "code",
   "execution_count": 8,
   "metadata": {},
   "outputs": [],
   "source": [
    "month_gap = 15\n",
    "data_df['past_R'] =  data_df.R1M_Usd.shift(month_gap)\n",
    "data_df.dropna(inplace=True)"
   ]
  },
  {
   "cell_type": "markdown",
   "metadata": {},
   "source": [
    "Since some values of past_R shows infinite values due to 0 values of 1 monthly return, I drop those values"
   ]
  },
  {
   "cell_type": "code",
   "execution_count": 9,
   "metadata": {},
   "outputs": [],
   "source": [
    "data_df.past_R = data_df.past_R.replace([np.inf, -np.inf], np.nan)\n",
    "data_df.dropna(inplace = True)"
   ]
  },
  {
   "cell_type": "markdown",
   "metadata": {},
   "source": [
    "Next, I move to divide stock based on momentum performance. As I mentioned, I will divide 10 groups"
   ]
  },
  {
   "cell_type": "code",
   "execution_count": 10,
   "metadata": {},
   "outputs": [
    {
     "data": {
      "text/html": [
       "<div>\n",
       "<style scoped>\n",
       "    .dataframe tbody tr th:only-of-type {\n",
       "        vertical-align: middle;\n",
       "    }\n",
       "\n",
       "    .dataframe tbody tr th {\n",
       "        vertical-align: top;\n",
       "    }\n",
       "\n",
       "    .dataframe thead th {\n",
       "        text-align: right;\n",
       "    }\n",
       "</style>\n",
       "<table border=\"1\" class=\"dataframe\">\n",
       "  <thead>\n",
       "    <tr style=\"text-align: right;\">\n",
       "      <th></th>\n",
       "      <th>date</th>\n",
       "      <th>stock_id</th>\n",
       "      <th>R1M_Usd</th>\n",
       "      <th>past_R</th>\n",
       "      <th>group_rank</th>\n",
       "    </tr>\n",
       "  </thead>\n",
       "  <tbody>\n",
       "    <tr>\n",
       "      <th>48737</th>\n",
       "      <td>2000-02-29</td>\n",
       "      <td>3</td>\n",
       "      <td>-0.024</td>\n",
       "      <td>0.016</td>\n",
       "      <td>5.0</td>\n",
       "    </tr>\n",
       "    <tr>\n",
       "      <th>51607</th>\n",
       "      <td>2000-03-31</td>\n",
       "      <td>3</td>\n",
       "      <td>0.018</td>\n",
       "      <td>-0.028</td>\n",
       "      <td>5.0</td>\n",
       "    </tr>\n",
       "    <tr>\n",
       "      <th>51608</th>\n",
       "      <td>2000-04-30</td>\n",
       "      <td>3</td>\n",
       "      <td>0.027</td>\n",
       "      <td>0.004</td>\n",
       "      <td>7.0</td>\n",
       "    </tr>\n",
       "    <tr>\n",
       "      <th>51609</th>\n",
       "      <td>2000-05-31</td>\n",
       "      <td>3</td>\n",
       "      <td>0.050</td>\n",
       "      <td>-0.060</td>\n",
       "      <td>3.0</td>\n",
       "    </tr>\n",
       "    <tr>\n",
       "      <th>45877</th>\n",
       "      <td>2000-06-30</td>\n",
       "      <td>3</td>\n",
       "      <td>0.008</td>\n",
       "      <td>0.071</td>\n",
       "      <td>5.0</td>\n",
       "    </tr>\n",
       "  </tbody>\n",
       "</table>\n",
       "</div>"
      ],
      "text/plain": [
       "             date  stock_id  R1M_Usd  past_R  group_rank\n",
       "48737  2000-02-29         3   -0.024   0.016         5.0\n",
       "51607  2000-03-31         3    0.018  -0.028         5.0\n",
       "51608  2000-04-30         3    0.027   0.004         7.0\n",
       "51609  2000-05-31         3    0.050  -0.060         3.0\n",
       "45877  2000-06-30         3    0.008   0.071         5.0"
      ]
     },
     "execution_count": 10,
     "metadata": {},
     "output_type": "execute_result"
    }
   ],
   "source": [
    "momentum_num = 10\n",
    "data_df['group_rank']=data_df.groupby(['date'])['past_R'].transform(\n",
    "                              lambda x: pd.qcut(x, momentum_num,labels=range(momentum_num)))\n",
    "data_df.head()"
   ]
  },
  {
   "cell_type": "markdown",
   "metadata": {},
   "source": [
    "Looking at return of equally weighted monthly return and mean of the monthly returns."
   ]
  },
  {
   "cell_type": "code",
   "execution_count": 11,
   "metadata": {},
   "outputs": [
    {
     "data": {
      "text/plain": [
       "group_rank\n",
       "0.0    0.012701\n",
       "1.0    0.011620\n",
       "2.0    0.009842\n",
       "3.0    0.013480\n",
       "4.0    0.011631\n",
       "5.0    0.011779\n",
       "6.0    0.011258\n",
       "7.0    0.012827\n",
       "8.0    0.011947\n",
       "9.0    0.019560\n",
       "Name: R1M_Usd, dtype: float64"
      ]
     },
     "execution_count": 11,
     "metadata": {},
     "output_type": "execute_result"
    }
   ],
   "source": [
    "monthly_return = data_df.groupby(['date','group_rank'])['R1M_Usd'].mean()\n",
    "monthly_weighted_return = monthly_return.groupby('group_rank').mean().sort_index()\n",
    "monthly_weighted_return"
   ]
  },
  {
   "cell_type": "markdown",
   "metadata": {},
   "source": [
    "Considering the portfolio returns, we can see relatively monotonic increase mean returns from lowest bin to the highest bin. Implementing this strategy, the thing you should keep in mind that my analysis did not consider high transactions cost.(Also, some countries do not allow people to have short position in trading)"
   ]
  },
  {
   "cell_type": "code",
   "execution_count": null,
   "metadata": {},
   "outputs": [],
   "source": []
  }
 ],
 "metadata": {
  "kernelspec": {
   "display_name": "Python 3",
   "language": "python",
   "name": "python3"
  },
  "language_info": {
   "codemirror_mode": {
    "name": "ipython",
    "version": 3
   },
   "file_extension": ".py",
   "mimetype": "text/x-python",
   "name": "python",
   "nbconvert_exporter": "python",
   "pygments_lexer": "ipython3",
   "version": "3.6.10"
  }
 },
 "nbformat": 4,
 "nbformat_minor": 4
}
