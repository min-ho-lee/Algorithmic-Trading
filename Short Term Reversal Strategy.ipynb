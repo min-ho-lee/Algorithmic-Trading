{
 "cells": [
  {
   "cell_type": "markdown",
   "metadata": {},
   "source": [
    "I will talk about short term reversal strategy. As I mentioned before, there are some drawbacks to momentum strategy, such as high transaction costs(shorting constraint for some countries). Stock future can be one way to cope with this problem. However, some stock future markets also have limitations since stock futures with late expiration dates are sometimes not very liquid. To make matters worse, futures also requires rollover. To reduce these risks, I will look at short term reversal. For simplicity, I will use the data, which is uploaded in my repository. "
   ]
  },
  {
   "cell_type": "code",
   "execution_count": 1,
   "metadata": {},
   "outputs": [],
   "source": [
    "import pyreadr \n",
    "import pandas as pd\n",
    "import numpy as np\n",
    "import matplotlib.pyplot as plt\n",
    "%matplotlib inline"
   ]
  },
  {
   "cell_type": "markdown",
   "metadata": {},
   "source": [
    "We also duplicate the chunk in Momentum Strategy"
   ]
  },
  {
   "cell_type": "code",
   "execution_count": 2,
   "metadata": {},
   "outputs": [],
   "source": [
    "#data_ml = pyreadr.read_r(# insert path of data_ml.RData)\n",
    "data_ml.sort_values(by=['stock_id','date'], inplace=True)\n",
    "stock_ids = data_ml.stock_id.unique()\n",
    "stock_days = data_ml.stock_id.value_counts().sort_index() \n",
    "stock_ids_short = stock_ids[stock_days.values == max(stock_days.values)] \n",
    "data_df = data_ml[data_ml['stock_id'].isin(stock_ids_short)][['date','stock_id','R1M_Usd']]"
   ]
  },
  {
   "cell_type": "code",
   "execution_count": 3,
   "metadata": {},
   "outputs": [
    {
     "data": {
      "text/plain": [
       "group_rank\n",
       "0.0    0.022629\n",
       "1.0    0.015926\n",
       "2.0    0.012979\n",
       "3.0    0.014879\n",
       "4.0    0.009775\n",
       "5.0    0.008410\n",
       "6.0    0.011560\n",
       "7.0    0.007181\n",
       "8.0    0.008979\n",
       "9.0    0.013539\n",
       "Name: R1M_Usd, dtype: float64"
      ]
     },
     "execution_count": 3,
     "metadata": {},
     "output_type": "execute_result"
    }
   ],
   "source": [
    "month_gap = 1     \n",
    "data_df['past_R'] =  data_df.R1M_Usd.shift(month_gap)\n",
    "data_df.dropna(inplace=True)\n",
    "data_df.past_R = data_df.past_R.replace([np.inf, -np.inf], np.nan)\n",
    "data_df.dropna(inplace = True)\n",
    "momentum_num = 10\n",
    "data_df['group_rank']=data_df.groupby(['date'])['past_R'].transform(\n",
    "                              lambda x: pd.qcut(x, momentum_num,labels=range(momentum_num)))\n",
    "monthly_return = data_df.groupby(['date','group_rank'])[['R1M_Usd','past_R']].mean()\n",
    "monthly_weighted_return = monthly_return.groupby('group_rank').R1M_Usd.mean().sort_index()\n",
    "monthly_weighted_return"
   ]
  },
  {
   "cell_type": "markdown",
   "metadata": {},
   "source": [
    "Then, we will make long-short portfolio. It appears that lowest momentum bin have the highest return compared to the others. Since bin 7 shows least return, I will go long on bin 0 and short on bin 7."
   ]
  },
  {
   "cell_type": "code",
   "execution_count": 4,
   "metadata": {},
   "outputs": [],
   "source": [
    "monthly_return = monthly_return.reset_index()\n",
    "longshort = monthly_return[monthly_return.group_rank ==1][['date','R1M_Usd']].merge(\n",
    "                     monthly_return[monthly_return.group_rank ==momentum_num-3][['date','R1M_Usd']],\n",
    "                     left_on='date', right_on='date')\n",
    "longshort.rename(columns={\"R1M_Usd_x\": \"long\", \"R1M_Usd_y\": \"short\"}, inplace=True)\n",
    "longshort['diff'] = longshort.long -longshort.short"
   ]
  },
  {
   "cell_type": "code",
   "execution_count": 5,
   "metadata": {},
   "outputs": [
    {
     "name": "stdout",
     "output_type": "stream",
     "text": [
      "monthly mean return is  0.8744864798046589 %\n"
     ]
    }
   ],
   "source": [
    "print(\"monthly mean return is \", longshort['diff'].mean()*100,\"%\")"
   ]
  },
  {
   "cell_type": "code",
   "execution_count": 6,
   "metadata": {},
   "outputs": [
    {
     "name": "stdout",
     "output_type": "stream",
     "text": [
      "annualized sharpe ratio is  0.8559524344392077\n"
     ]
    }
   ],
   "source": [
    "print(\"annualized sharpe ratio is \", np.sqrt(12)*(longshort['diff'].mean())/longshort['diff'].std())"
   ]
  },
  {
   "cell_type": "markdown",
   "metadata": {},
   "source": [
    "We will look at distribution of returns"
   ]
  },
  {
   "cell_type": "code",
   "execution_count": 7,
   "metadata": {},
   "outputs": [
    {
     "data": {
      "text/plain": [
       "array([[<AxesSubplot:title={'center':'diff'}>]], dtype=object)"
      ]
     },
     "execution_count": 7,
     "metadata": {},
     "output_type": "execute_result"
    },
    {
     "data": {
      "image/png": "[encoded data removed]",
      "text/plain": [
       "<Figure size 432x288 with 1 Axes>"
      ]
     },
     "metadata": {
      "needs_background": "light"
     },
     "output_type": "display_data"
    }
   ],
   "source": [
    "longshort.hist('diff')"
   ]
  },
  {
   "cell_type": "markdown",
   "metadata": {},
   "source": [
    "One more thing I want to mention is bid-ask spread. This analysis assumes that futures contract can be bought and sold at same price of the underlying stock."
   ]
  },
  {
   "cell_type": "code",
   "execution_count": null,
   "metadata": {},
   "outputs": [],
   "source": []
  },
  {
   "cell_type": "code",
   "execution_count": null,
   "metadata": {},
   "outputs": [],
   "source": []
  }
 ],
 "metadata": {
  "kernelspec": {
   "display_name": "Python 3",
   "language": "python",
   "name": "python3"
  },
  "language_info": {
   "codemirror_mode": {
    "name": "ipython",
    "version": 3
   },
   "file_extension": ".py",
   "mimetype": "text/x-python",
   "name": "python",
   "nbconvert_exporter": "python",
   "pygments_lexer": "ipython3",
   "version": "3.6.10"
  }
 },
 "nbformat": 4,
 "nbformat_minor": 4
}
