{
 "cells": [
  {
   "cell_type": "markdown",
   "metadata": {},
   "source": [
    "I will talk about short term reversal strategy. As I mentioned before, there are some drawbacks to momentum strategy, such as high transaction costs(shorting constraint for some countries). Stock future can be one way to cope with this problem. However, some stock future markets also have limitations since stock futures with late expiration dates are sometimes not very liquid. To make matters worse, futures also requires rollover. To reduce these risks, I will look at short term reversal. For simplicity, I will use the data, which is uploaded in my repository. "
   ]
  },
  {
   "cell_type": "code",
   "execution_count": 1,
   "metadata": {},
   "outputs": [],
   "source": [
    "import pyreadr \n",
    "import pandas as pd\n",
    "import numpy as np\n",
    "import matplotlib.pyplot as plt\n",
    "%matplotlib inline"
   ]
  },
  {
   "cell_type": "markdown",
   "metadata": {},
   "source": [
    "We also duplicate the chunk in Momentum Strategy"
   ]
  },
  {
   "cell_type": "code",
   "execution_count": 3,
   "metadata": {},
   "outputs": [],
   "source": [
    "#data_ml = pyreadr.read_r(# insert path of data_ml.RData)\n",
    "data_ml.sort_values(by=['stock_id','date'], inplace=True)\n",
    "stock_ids = data_ml.stock_id.unique()\n",
    "stock_days = data_ml.stock_id.value_counts().sort_index() \n",
    "stock_ids_short = stock_ids[stock_days.values == max(stock_days.values)] \n",
    "data_df = data_ml[data_ml['stock_id'].isin(stock_ids_short)][['date','stock_id','R1M_Usd']]"
   ]
  },
  {
   "cell_type": "code",
   "execution_count": 4,
   "metadata": {},
   "outputs": [
    {
     "data": {
      "text/plain": [
       "group_rank\n",
       "0.0    0.022629\n",
       "1.0    0.015926\n",
       "2.0    0.012979\n",
       "3.0    0.014879\n",
       "4.0    0.009775\n",
       "5.0    0.008410\n",
       "6.0    0.011560\n",
       "7.0    0.007181\n",
       "8.0    0.008979\n",
       "9.0    0.013539\n",
       "Name: R1M_Usd, dtype: float64"
      ]
     },
     "execution_count": 4,
     "metadata": {},
     "output_type": "execute_result"
    }
   ],
   "source": [
    "month_gap = 1     \n",
    "data_df['past_R'] =  data_df.R1M_Usd.shift(month_gap)\n",
    "data_df.dropna(inplace=True)\n",
    "data_df.past_R = data_df.past_R.replace([np.inf, -np.inf], np.nan)\n",
    "data_df.dropna(inplace = True)\n",
    "momentum_num = 10\n",
    "data_df['group_rank']=data_df.groupby(['date'])['past_R'].transform(\n",
    "                              lambda x: pd.qcut(x, momentum_num,labels=range(momentum_num)))\n",
    "monthly_return = data_df.groupby(['date','group_rank'])[['R1M_Usd','past_R']].mean()\n",
    "monthly_weighted_return = monthly_return.groupby('group_rank').R1M_Usd.mean().sort_index()\n",
    "monthly_weighted_return"
   ]
  },
  {
   "cell_type": "markdown",
   "metadata": {},
   "source": [
    "Then, we will make long-short portfolio. It appears that lowest momentum bin have the highest return compared to the others. Since bin 7 shows least return, I will go long on bin 0 and short on bin 7."
   ]
  },
  {
   "cell_type": "code",
   "execution_count": 5,
   "metadata": {},
   "outputs": [
    {
     "ename": "NameError",
     "evalue": "name 'monthly_return_reset' is not defined",
     "output_type": "error",
     "traceback": [
      "\u001b[1;31m---------------------------------------------------------------------------\u001b[0m",
      "\u001b[1;31mNameError\u001b[0m                                 Traceback (most recent call last)",
      "\u001b[1;32m<ipython-input-5-c7ed479ff0af>\u001b[0m in \u001b[0;36m<module>\u001b[1;34m\u001b[0m\n\u001b[0;32m      1\u001b[0m \u001b[0mmonthly_return\u001b[0m \u001b[1;33m=\u001b[0m \u001b[0mmonthly_return\u001b[0m\u001b[1;33m.\u001b[0m\u001b[0mreset_index\u001b[0m\u001b[1;33m(\u001b[0m\u001b[1;33m)\u001b[0m\u001b[1;33m\u001b[0m\u001b[1;33m\u001b[0m\u001b[0m\n\u001b[0;32m      2\u001b[0m longshort = monthly_return[monthly_return.group_rank ==1][['date','R1M_Usd']].merge(\n\u001b[1;32m----> 3\u001b[1;33m                      \u001b[0mmonthly_return\u001b[0m\u001b[1;33m[\u001b[0m\u001b[0mmonthly_return_reset\u001b[0m\u001b[1;33m.\u001b[0m\u001b[0mgroup_rank\u001b[0m \u001b[1;33m==\u001b[0m\u001b[0mmomentum_num\u001b[0m\u001b[1;33m-\u001b[0m\u001b[1;36m3\u001b[0m\u001b[1;33m]\u001b[0m\u001b[1;33m[\u001b[0m\u001b[1;33m[\u001b[0m\u001b[1;34m'date'\u001b[0m\u001b[1;33m,\u001b[0m\u001b[1;34m'R1M_Usd'\u001b[0m\u001b[1;33m]\u001b[0m\u001b[1;33m]\u001b[0m\u001b[1;33m,\u001b[0m\u001b[1;33m\u001b[0m\u001b[1;33m\u001b[0m\u001b[0m\n\u001b[0m\u001b[0;32m      4\u001b[0m                      left_on='date', right_on='date')\n\u001b[0;32m      5\u001b[0m \u001b[0mlongshort\u001b[0m\u001b[1;33m.\u001b[0m\u001b[0mrename\u001b[0m\u001b[1;33m(\u001b[0m\u001b[0mcolumns\u001b[0m\u001b[1;33m=\u001b[0m\u001b[1;33m{\u001b[0m\u001b[1;34m\"R1M_Usd_x\"\u001b[0m\u001b[1;33m:\u001b[0m \u001b[1;34m\"long\"\u001b[0m\u001b[1;33m,\u001b[0m \u001b[1;34m\"R1M_Usd_y\"\u001b[0m\u001b[1;33m:\u001b[0m \u001b[1;34m\"short\"\u001b[0m\u001b[1;33m}\u001b[0m\u001b[1;33m,\u001b[0m \u001b[0minplace\u001b[0m\u001b[1;33m=\u001b[0m\u001b[1;32mTrue\u001b[0m\u001b[1;33m)\u001b[0m\u001b[1;33m\u001b[0m\u001b[1;33m\u001b[0m\u001b[0m\n",
      "\u001b[1;31mNameError\u001b[0m: name 'monthly_return_reset' is not defined"
     ]
    }
   ],
   "source": [
    "monthly_return = monthly_return.reset_index()\n",
    "longshort = monthly_return[monthly_return.group_rank ==1][['date','R1M_Usd']].merge(\n",
    "                     monthly_return[monthly_return_reset.group_rank ==momentum_num-3][['date','R1M_Usd']],\n",
    "                     left_on='date', right_on='date')\n",
    "longshort.rename(columns={\"R1M_Usd_x\": \"long\", \"R1M_Usd_y\": \"short\"}, inplace=True)\n",
    "longshort['diff'] = longshort.long -longshort.short"
   ]
  },
  {
   "cell_type": "code",
   "execution_count": null,
   "metadata": {},
   "outputs": [],
   "source": [
    "print(\"monthly mean return is \", longshort['diff'].mean()*100,\"%\")"
   ]
  },
  {
   "cell_type": "code",
   "execution_count": null,
   "metadata": {},
   "outputs": [],
   "source": [
    "print(\"annualized sharpe ratio is \", np.sqrt(12)*(longshort['diff'].mean())/longshort['diff'].std())"
   ]
  },
  {
   "cell_type": "markdown",
   "metadata": {},
   "source": [
    "We will look at distribution of returns"
   ]
  },
  {
   "cell_type": "code",
   "execution_count": null,
   "metadata": {},
   "outputs": [],
   "source": [
    "longshort.hist('diff')"
   ]
  },
  {
   "cell_type": "markdown",
   "metadata": {},
   "source": [
    "One more thing I want to mention is bid-ask spread. This analysis assumes that futures contract can be bought and sold at same price of the underlying stock."
   ]
  },
  {
   "cell_type": "code",
   "execution_count": null,
   "metadata": {},
   "outputs": [],
   "source": []
  },
  {
   "cell_type": "code",
   "execution_count": null,
   "metadata": {},
   "outputs": [],
   "source": []
  }
 ],
 "metadata": {
  "kernelspec": {
   "display_name": "Python 3",
   "language": "python",
   "name": "python3"
  },
  "language_info": {
   "codemirror_mode": {
    "name": "ipython",
    "version": 3
   },
   "file_extension": ".py",
   "mimetype": "text/x-python",
   "name": "python",
   "nbconvert_exporter": "python",
   "pygments_lexer": "ipython3",
   "version": "3.6.10"
  }
 },
 "nbformat": 4,
 "nbformat_minor": 4
}
